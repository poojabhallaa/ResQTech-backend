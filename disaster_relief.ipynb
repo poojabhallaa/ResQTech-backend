{
 "cells": [
  {
   "cell_type": "markdown",
   "id": "0ba17f7f-3e68-4051-bed0-86c24826a8cd",
   "metadata": {},
   "source": [
    "# New"
   ]
  },
  {
   "cell_type": "code",
   "execution_count": 17,
   "id": "b00c5849-1925-47c4-ab12-803900cb9eb0",
   "metadata": {},
   "outputs": [
    {
     "name": "stdout",
     "output_type": "stream",
     "text": [
      "\n",
      "--- food_required_tons ---\n",
      "Mean Absolute Error: 12.58\n",
      "R² Score: -0.0047\n",
      "\n",
      "--- rescue_teams_required ---\n",
      "Mean Absolute Error: 7.27\n",
      "R² Score: -0.0049\n",
      "\n",
      "--- medical_aid_required ---\n",
      "Mean Absolute Error: 249.21\n",
      "R² Score: -0.0049\n"
     ]
    }
   ],
   "source": [
    "import pandas as pd\n",
    "from sklearn.model_selection import train_test_split\n",
    "from sklearn.preprocessing import OneHotEncoder\n",
    "from sklearn.compose import ColumnTransformer\n",
    "from sklearn.ensemble import RandomForestRegressor\n",
    "from sklearn.multioutput import MultiOutputRegressor\n",
    "from sklearn.pipeline import Pipeline\n",
    "from sklearn.metrics import mean_absolute_error, r2_score\n",
    "\n",
    "# Step 1: Load the data\n",
    "df = pd.read_csv(\"disaster_relief_dataset.csv\")\n",
    "\n",
    "# Step 2: Define input and output\n",
    "X = df.drop(columns=['food_required_tons', 'rescue_teams_required', 'medical_aid_required'])\n",
    "y = df[['food_required_tons', 'rescue_teams_required', 'medical_aid_required']]\n",
    "\n",
    "# Step 3: Define categorical features for encoding\n",
    "categorical_features = ['disaster_type', 'location', 'severity_level', 'weather_condition']\n",
    "\n",
    "# Step 4: Create preprocessing transformer\n",
    "preprocessor = ColumnTransformer(\n",
    "    transformers=[\n",
    "        ('cat', OneHotEncoder(handle_unknown='ignore'), categorical_features)\n",
    "    ],\n",
    "    remainder='passthrough'\n",
    ")\n",
    "\n",
    "# Step 5: Define the model pipeline\n",
    "model = Pipeline(steps=[\n",
    "    ('preprocessor', preprocessor),\n",
    "    ('regressor', MultiOutputRegressor(RandomForestRegressor(\n",
    "        n_estimators=100,\n",
    "        max_depth=15,\n",
    "        min_samples_split=5,\n",
    "        random_state=42,\n",
    "        n_jobs=-1\n",
    "    )))\n",
    "])\n",
    "\n",
    "# Step 6: Train-Test Split\n",
    "X_train, X_test, y_train, y_test = train_test_split(X, y, test_size=0.2, random_state=42)\n",
    "\n",
    "# Step 7: Train the model\n",
    "model.fit(X_train, y_train)\n",
    "\n",
    "# Step 8: Make predictions\n",
    "y_pred = model.predict(X_test)\n",
    "\n",
    "# Step 9: Evaluate the model\n",
    "mae = mean_absolute_error(y_test, y_pred, multioutput='raw_values')\n",
    "r2 = r2_score(y_test, y_pred, multioutput='raw_values')\n",
    "\n",
    "# Print metrics\n",
    "for i, col in enumerate(y.columns):\n",
    "    print(f\"\\n--- {col} ---\")\n",
    "    print(f\"Mean Absolute Error: {mae[i]:.2f}\")\n",
    "    print(f\"R² Score: {r2[i]:.4f}\")"
   ]
  },
  {
   "cell_type": "code",
   "execution_count": 18,
   "id": "142018ef-f1ff-40eb-9ba7-2e03de6e3165",
   "metadata": {},
   "outputs": [
    {
     "name": "stdout",
     "output_type": "stream",
     "text": [
      "[[ 25.41244378  15.22722732 517.87859686]]\n"
     ]
    }
   ],
   "source": [
    "sample_input = pd.DataFrame([{\n",
    "    'disaster_type': 'earthquake',\n",
    "    'location': 'Zone B',\n",
    "    'population_affected': 50000,\n",
    "    'severity_level': 'extreme',\n",
    "    'infrastructure_damage_percent': 90,\n",
    "    'weather_condition': 'stormy',\n",
    "    'road_blocked': 1,\n",
    "    'medical_cases': 1500\n",
    "}])\n",
    "prediction = model.predict(sample_input)\n",
    "print(prediction)"
   ]
  },
  {
   "cell_type": "markdown",
   "id": "995b3cdb-589b-4707-905c-1438a12c8c11",
   "metadata": {},
   "source": [
    "# Pickel"
   ]
  },
  {
   "cell_type": "code",
   "execution_count": 22,
   "id": "855981e2-9e4a-4343-bcfa-7271a095ee8a",
   "metadata": {},
   "outputs": [],
   "source": [
    "import pickle\n",
    "\n",
    "# After training the model (Step 7):\n",
    "# Step 10: Pickle the trained model\n",
    "with open('disaster_relief_model.pkl', 'wb') as f:\n",
    "    pickle.dump(model, f)"
   ]
  },
  {
   "cell_type": "code",
   "execution_count": null,
   "id": "ea506d0e-c74b-43a3-a39e-c1b778a72f4e",
   "metadata": {},
   "outputs": [],
   "source": []
  }
 ],
 "metadata": {
  "kernelspec": {
   "display_name": "condaenv",
   "language": "python",
   "name": "condaenv"
  },
  "language_info": {
   "codemirror_mode": {
    "name": "ipython",
    "version": 3
   },
   "file_extension": ".py",
   "mimetype": "text/x-python",
   "name": "python",
   "nbconvert_exporter": "python",
   "pygments_lexer": "ipython3",
   "version": "3.12.7"
  }
 },
 "nbformat": 4,
 "nbformat_minor": 5
}
